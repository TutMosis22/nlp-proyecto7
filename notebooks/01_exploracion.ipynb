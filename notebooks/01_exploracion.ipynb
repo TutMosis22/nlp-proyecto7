{
 "cells": [
  {
   "cell_type": "markdown",
   "id": "bbfe91f2",
   "metadata": {},
   "source": [
    "# PRIMERO: CARGAMOS LAS LIBRERÍAS"
   ]
  },
  {
   "cell_type": "code",
   "execution_count": 1,
   "id": "db2ced04",
   "metadata": {},
   "outputs": [],
   "source": [
    "import pandas as pd\n",
    "import matplotlib.pyplot as plt\n",
    "import seaborn as sns"
   ]
  },
  {
   "cell_type": "markdown",
   "id": "fe76cf28",
   "metadata": {},
   "source": [
    "# CARGO EL DATASET"
   ]
  },
  {
   "cell_type": "code",
   "execution_count": 2,
   "id": "a6779511",
   "metadata": {},
   "outputs": [],
   "source": [
    "df = pd.read_csv('../data/dataset.csv')"
   ]
  },
  {
   "cell_type": "markdown",
   "id": "ba3dad4e",
   "metadata": {},
   "source": [
    "# MOSTRAMOS LOS PRIMEROS REGISTROS"
   ]
  },
  {
   "cell_type": "code",
   "execution_count": 3,
   "id": "754ad677",
   "metadata": {},
   "outputs": [
    {
     "name": "stdout",
     "output_type": "stream",
     "text": [
      "Primeras filas del dataset:\n"
     ]
    },
    {
     "data": {
      "text/html": [
       "<div>\n",
       "<style scoped>\n",
       "    .dataframe tbody tr th:only-of-type {\n",
       "        vertical-align: middle;\n",
       "    }\n",
       "\n",
       "    .dataframe tbody tr th {\n",
       "        vertical-align: top;\n",
       "    }\n",
       "\n",
       "    .dataframe thead th {\n",
       "        text-align: right;\n",
       "    }\n",
       "</style>\n",
       "<table border=\"1\" class=\"dataframe\">\n",
       "  <thead>\n",
       "    <tr style=\"text-align: right;\">\n",
       "      <th></th>\n",
       "      <th>id</th>\n",
       "      <th>texto</th>\n",
       "      <th>sentimiento</th>\n",
       "    </tr>\n",
       "  </thead>\n",
       "  <tbody>\n",
       "    <tr>\n",
       "      <th>0</th>\n",
       "      <td>1</td>\n",
       "      <td>Me encantó la película</td>\n",
       "      <td>positivo</td>\n",
       "    </tr>\n",
       "    <tr>\n",
       "      <th>1</th>\n",
       "      <td>2</td>\n",
       "      <td>No me gustó para nada</td>\n",
       "      <td>negativo</td>\n",
       "    </tr>\n",
       "    <tr>\n",
       "      <th>2</th>\n",
       "      <td>3</td>\n",
       "      <td>Estuvo más o menos</td>\n",
       "      <td>neutro</td>\n",
       "    </tr>\n",
       "    <tr>\n",
       "      <th>3</th>\n",
       "      <td>4</td>\n",
       "      <td>La experiencia fue maravillosa</td>\n",
       "      <td>positivo</td>\n",
       "    </tr>\n",
       "    <tr>\n",
       "      <th>4</th>\n",
       "      <td>5</td>\n",
       "      <td>Odio cuando pasa eso</td>\n",
       "      <td>negativo</td>\n",
       "    </tr>\n",
       "  </tbody>\n",
       "</table>\n",
       "</div>"
      ],
      "text/plain": [
       "   id                           texto sentimiento\n",
       "0   1          Me encantó la película    positivo\n",
       "1   2           No me gustó para nada    negativo\n",
       "2   3              Estuvo más o menos      neutro\n",
       "3   4  La experiencia fue maravillosa    positivo\n",
       "4   5            Odio cuando pasa eso    negativo"
      ]
     },
     "metadata": {},
     "output_type": "display_data"
    }
   ],
   "source": [
    "print(\"Primeras filas del dataset:\")\n",
    "display(df.head())"
   ]
  },
  {
   "cell_type": "code",
   "execution_count": 4,
   "id": "f7acb800",
   "metadata": {},
   "outputs": [
    {
     "name": "stdout",
     "output_type": "stream",
     "text": [
      "Distribución de sentimientos:\n",
      "sentimiento\n",
      "positivo    4\n",
      "negativo    3\n",
      "neutro      3\n",
      "Name: count, dtype: int64\n"
     ]
    }
   ],
   "source": [
    "print(\"Distribución de sentimientos:\")\n",
    "print(df['sentimiento'].value_counts())"
   ]
  },
  {
   "cell_type": "markdown",
   "id": "8256c191",
   "metadata": {},
   "source": [
    "# REALIZO UN GRÁFICO DE BARRAS"
   ]
  },
  {
   "cell_type": "code",
   "execution_count": 5,
   "id": "c5bd5152",
   "metadata": {},
   "outputs": [
    {
     "name": "stderr",
     "output_type": "stream",
     "text": [
      "C:\\Users\\calag\\AppData\\Local\\Temp\\ipykernel_43912\\934896271.py:1: FutureWarning: \n",
      "\n",
      "Passing `palette` without assigning `hue` is deprecated and will be removed in v0.14.0. Assign the `x` variable to `hue` and set `legend=False` for the same effect.\n",
      "\n",
      "  sns.countplot(data=df, x = 'sentimiento', palette = 'Set2')\n"
     ]
    },
    {
     "data": {
      "image/png": "[encoded data removed]",
      "text/plain": [
       "<Figure size 640x480 with 1 Axes>"
      ]
     },
     "metadata": {},
     "output_type": "display_data"
    }
   ],
   "source": [
    "sns.countplot(data=df, x = 'sentimiento', palette = 'Set2')\n",
    "plt.title(\"Distribución de sentimientos\")\n",
    "plt.show()"
   ]
  },
  {
   "cell_type": "markdown",
   "id": "bd3ffeeb",
   "metadata": {},
   "source": [
    "# MOSTAMOS LA LONGITUD PROMEDIO DE LOS TEXTOS"
   ]
  },
  {
   "cell_type": "code",
   "execution_count": 6,
   "id": "3c4fbc13",
   "metadata": {},
   "outputs": [
    {
     "name": "stdout",
     "output_type": "stream",
     "text": [
      "n\\Longitudes de texto:\n",
      "count    10.000000\n",
      "mean     23.100000\n",
      "std       5.466057\n",
      "min      17.000000\n",
      "25%      18.500000\n",
      "50%      21.500000\n",
      "75%      28.250000\n",
      "max      31.000000\n",
      "Name: longitud, dtype: float64\n"
     ]
    }
   ],
   "source": [
    "df['longitud'] = df['texto'].apply(len)\n",
    "print(\"n\\Longitudes de texto:\")\n",
    "print(df['longitud'].describe())"
   ]
  },
  {
   "cell_type": "markdown",
   "id": "c20948b1",
   "metadata": {},
   "source": [
    "# REALIZO UN HISTOGRAMA DE LONGITUDES"
   ]
  },
  {
   "cell_type": "code",
   "execution_count": 7,
   "id": "9f87573a",
   "metadata": {},
   "outputs": [
    {
     "data": {
      "image/png": "[encoded data removed]",
      "text/plain": [
       "<Figure size 640x480 with 1 Axes>"
      ]
     },
     "metadata": {},
     "output_type": "display_data"
    }
   ],
   "source": [
    "plt.hist(df['longitud'], bins = 5, color = 'skyblue', edgecolor = 'black')\n",
    "plt.title(\"Distribución de la longitud de texto\")\n",
    "plt.xlabel(\"Cantidad de caracteres\")\n",
    "plt.ylabel(\"Frecuencia\")\n",
    "plt.show()"
   ]
  }
 ],
 "metadata": {
  "kernelspec": {
   "display_name": "Python 3",
   "language": "python",
   "name": "python3"
  },
  "language_info": {
   "codemirror_mode": {
    "name": "ipython",
    "version": 3
   },
   "file_extension": ".py",
   "mimetype": "text/x-python",
   "name": "python",
   "nbconvert_exporter": "python",
   "pygments_lexer": "ipython3",
   "version": "3.11.4"
  }
 },
 "nbformat": 4,
 "nbformat_minor": 5
}
