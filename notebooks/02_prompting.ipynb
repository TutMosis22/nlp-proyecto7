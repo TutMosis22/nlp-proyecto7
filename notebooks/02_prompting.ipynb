{
 "cells": [
  {
   "cell_type": "markdown",
   "id": "88afe22b",
   "metadata": {},
   "source": [
    "# Clasificación de sentimientos con aprendizaje de pocos ejemplos (Few-shot Learning)\n",
    "\n",
    "En este notebook probaé prompting con 0-shot, 1-shot y 5-shot usando openAI"
   ]
  },
  {
   "cell_type": "code",
   "execution_count": 2,
   "id": "8aa02885",
   "metadata": {},
   "outputs": [],
   "source": [
    "import os\n",
    "import openai\n",
    "import pandas as pd\n",
    "import numpy as np\n",
    "from sklearn.metrics import accuracy_score, f1_score\n",
    "from dotenv import load_dotenv\n",
    "from tqdm import tqdm\n",
    "import matplotlib.pyplot as plt\n",
    "import seaborn as sns"
   ]
  },
  {
   "cell_type": "code",
   "execution_count": 3,
   "id": "784acf63",
   "metadata": {},
   "outputs": [],
   "source": [
    "load_dotenv()\n",
    "openai.api_key = os.getenv(\"OPENAI_API_KEY\")"
   ]
  },
  {
   "cell_type": "markdown",
   "id": "a48f4db2",
   "metadata": {},
   "source": [
    "Usaré un conjunto simple con frases cortas etiquetas como \"positivo\" o \"negativo\""
   ]
  },
  {
   "cell_type": "code",
   "execution_count": 5,
   "id": "dcbc41e8",
   "metadata": {},
   "outputs": [],
   "source": [
    "examples = [\n",
    "    (\"I love this movie, it's fantastic!\", \"positivo\"),\n",
    "    (\"This is the worst thing I've ever seen.\", \"negativo\"),\n",
    "    (\"Absolutely amazing performance!\", \"positivo\"),\n",
    "    (\"Terrible. I regret watching this.\", \"negativo\"),\n",
    "    (\"I'm very happy with the result.\", \"positivo\"),\n",
    "    (\"It's not good at all.\", \"negativo\"),\n",
    "    (\"I enjoyed every minute of it.\", \"positivo\"),\n",
    "    (\"I hate how this ended.\", \"negativo\"),\n",
    "]\n",
    "\n",
    "# Dividimos en 5 ejemplos para few-shot y el resto como test\n",
    "few_shot_examples = examples[:5]\n",
    "test_data = examples[5:]"
   ]
  },
  {
   "cell_type": "markdown",
   "id": "1c836184",
   "metadata": {},
   "source": [
    "Función para construir prompts"
   ]
  },
  {
   "cell_type": "code",
   "execution_count": 6,
   "id": "9b283baf",
   "metadata": {},
   "outputs": [],
   "source": [
    "def build_prompt(task_instruction, examples, new_input):\n",
    "    \"\"\"\n",
    "    Construye un prompt con la instrucción, ejemplos (shots) y nueva entrada.\n",
    "    \"\"\"\n",
    "    prompt = task_instruction + \"\\n\\n\"\n",
    "    for ex, label in examples:\n",
    "        prompt += f\"Entrada: {ex}\\nSentimiento: {label}\\n\\n\"\n",
    "    prompt += f\"Entrada: {new_input}\\nSentimiento:\"\n",
    "    return prompt"
   ]
  },
  {
   "cell_type": "markdown",
   "id": "529c47ae",
   "metadata": {},
   "source": [
    "Función para llamar a OpenAI"
   ]
  },
  {
   "cell_type": "code",
   "execution_count": null,
   "id": "ab15d82b",
   "metadata": {},
   "outputs": [],
   "source": [
    "def classify_sentiment(prompt):\n",
    "    \"\"\"\n",
    "    Llamamos a la API de OpenAI para completar el prompt y devolver la respuesta\n",
    "    \"\"\"\n",
    "    response = openai.ChatCompletion.create(\n",
    "        model=\"gpt-3.5-turbo\",\n",
    "        messages=[\n",
    "            {\"role\": \"user\", \"content\": prompt}\n",
    "        ],\n",
    "        temperature=0\n",
    "    )\n",
    "    output = response['choices'][0]['message']['content']\n",
    "    return output.strip().lower()\n"
   ]
  },
  {
   "cell_type": "markdown",
   "id": "bcd37c22",
   "metadata": {},
   "source": [
    "Me falta completar más código: probar las configuraciones 0-shot, 1-shot, 5-shot y la visualización de resultados"
   ]
  }
 ],
 "metadata": {
  "kernelspec": {
   "display_name": "Python 3",
   "language": "python",
   "name": "python3"
  },
  "language_info": {
   "codemirror_mode": {
    "name": "ipython",
    "version": 3
   },
   "file_extension": ".py",
   "mimetype": "text/x-python",
   "name": "python",
   "nbconvert_exporter": "python",
   "pygments_lexer": "ipython3",
   "version": "3.11.4"
  }
 },
 "nbformat": 4,
 "nbformat_minor": 5
}
