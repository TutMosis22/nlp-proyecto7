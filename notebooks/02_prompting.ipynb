{
 "cells": [
  {
   "cell_type": "markdown",
   "id": "88afe22b",
   "metadata": {},
   "source": [
    "# Clasificación de sentimientos con aprendizaje de pocos ejemplos (Few-shot Learning)\n",
    "\n",
    "En este notebook probaé prompting con 0-shot, 1-shot y 5-shot usando openAI"
   ]
  },
  {
   "cell_type": "code",
   "execution_count": 31,
   "id": "8aa02885",
   "metadata": {},
   "outputs": [],
   "source": [
    "import os\n",
    "import openai\n",
    "import pandas as pd\n",
    "import numpy as np\n",
    "from sklearn.metrics import accuracy_score, f1_score\n",
    "from dotenv import load_dotenv\n",
    "from tqdm import tqdm\n",
    "import matplotlib.pyplot as plt\n",
    "import seaborn as sns"
   ]
  },
  {
   "cell_type": "code",
   "execution_count": 32,
   "id": "784acf63",
   "metadata": {},
   "outputs": [],
   "source": [
    "load_dotenv()\n",
    "openai.api_key = os.getenv(\"OPENAI_API_KEY\")"
   ]
  },
  {
   "cell_type": "markdown",
   "id": "a48f4db2",
   "metadata": {},
   "source": [
    "Usaré un conjunto simple con frases cortas etiquetas como \"positivo\" o \"negativo\""
   ]
  },
  {
   "cell_type": "code",
   "execution_count": 33,
   "id": "dcbc41e8",
   "metadata": {},
   "outputs": [],
   "source": [
    "examples = [\n",
    "    (\"I love this movie, it's fantastic!\", \"positivo\"),\n",
    "    (\"This is the worst thing I've ever seen.\", \"negativo\"),\n",
    "    (\"Absolutely amazing performance!\", \"positivo\"),\n",
    "    (\"Terrible. I regret watching this.\", \"negativo\"),\n",
    "    (\"I'm very happy with the result.\", \"positivo\"),\n",
    "    (\"It's not good at all.\", \"negativo\"),\n",
    "    (\"I enjoyed every minute of it.\", \"positivo\"),\n",
    "    (\"I hate how this ended.\", \"negativo\"),\n",
    "]\n",
    "\n",
    "# Dividimos en 5 ejemplos para few-shot y el resto como test\n",
    "few_shot_examples = examples[:5]\n",
    "test_data = examples[5:]"
   ]
  },
  {
   "cell_type": "markdown",
   "id": "1c836184",
   "metadata": {},
   "source": [
    "Función para construir prompts"
   ]
  },
  {
   "cell_type": "code",
   "execution_count": 34,
   "id": "9b283baf",
   "metadata": {},
   "outputs": [],
   "source": [
    "def build_prompt(task_instruction, examples, new_input):\n",
    "    \"\"\"\n",
    "    Construye un prompt con la instrucción, ejemplos (shots) y nueva entrada.\n",
    "    \"\"\"\n",
    "    prompt = task_instruction + \"\\n\\n\"\n",
    "    for ex, label in examples:\n",
    "        prompt += f\"Entrada: {ex}\\nSentimiento: {label}\\n\\n\"\n",
    "    prompt += f\"Entrada: {new_input}\\nSentimiento:\"\n",
    "    return prompt"
   ]
  },
  {
   "cell_type": "markdown",
   "id": "529c47ae",
   "metadata": {},
   "source": [
    "Función para llamar a OpenAI"
   ]
  },
  {
   "cell_type": "code",
   "execution_count": 35,
   "id": "ab15d82b",
   "metadata": {},
   "outputs": [],
   "source": [
    "def classify_sentiment(prompt):\n",
    "    \"\"\"\n",
    "    Llamamos a la API de OpenAI para completar el prompt y devolver la respuesta\n",
    "    \"\"\"\n",
    "    client = openai.OpenAI()\n",
    "\n",
    "    response = client.chat.completions.create(\n",
    "        model=\"gpt-3.5-turbo\",\n",
    "        messages=[\n",
    "            {\"role\": \"user\", \"content\": prompt}\n",
    "        ],\n",
    "        temperature=0\n",
    "    )\n",
    "\n",
    "    output = response.choices[0].message.content\n",
    "    return output.strip().lower()\n"
   ]
  },
  {
   "cell_type": "markdown",
   "id": "bcd37c22",
   "metadata": {},
   "source": [
    "Prueba de diferentes configuraciones: 0-shot, 1-shot, 5-shot"
   ]
  },
  {
   "cell_type": "code",
   "execution_count": 36,
   "id": "dbeae24b",
   "metadata": {},
   "outputs": [
    {
     "name": "stdout",
     "output_type": "stream",
     "text": [
      "\n",
      "Evaluando configuración: 0-shot\n",
      "\n"
     ]
    },
    {
     "name": "stderr",
     "output_type": "stream",
     "text": [
      " 33%|███▎      | 1/3 [00:01<00:03,  1.88s/it]"
     ]
    },
    {
     "name": "stdout",
     "output_type": "stream",
     "text": [
      "\n",
      "Texto: It's not good at all.\n",
      "Real: negativo | Predicho: negativo\n"
     ]
    },
    {
     "name": "stderr",
     "output_type": "stream",
     "text": [
      " 67%|██████▋   | 2/3 [00:02<00:01,  1.27s/it]"
     ]
    },
    {
     "name": "stdout",
     "output_type": "stream",
     "text": [
      "\n",
      "Texto: I enjoyed every minute of it.\n",
      "Real: positivo | Predicho: positivo\n"
     ]
    },
    {
     "name": "stderr",
     "output_type": "stream",
     "text": [
      "100%|██████████| 3/3 [00:03<00:00,  1.22s/it]\n"
     ]
    },
    {
     "name": "stdout",
     "output_type": "stream",
     "text": [
      "\n",
      "Texto: I hate how this ended.\n",
      "Real: negativo | Predicho: negativo\n",
      "\n",
      "Evaluando configuración: 1-shot\n",
      "\n"
     ]
    },
    {
     "name": "stderr",
     "output_type": "stream",
     "text": [
      " 33%|███▎      | 1/3 [00:01<00:03,  1.53s/it]"
     ]
    },
    {
     "name": "stdout",
     "output_type": "stream",
     "text": [
      "\n",
      "Texto: It's not good at all.\n",
      "Real: negativo | Predicho: negativo\n"
     ]
    },
    {
     "name": "stderr",
     "output_type": "stream",
     "text": [
      " 67%|██████▋   | 2/3 [00:03<00:01,  1.58s/it]"
     ]
    },
    {
     "name": "stdout",
     "output_type": "stream",
     "text": [
      "\n",
      "Texto: I enjoyed every minute of it.\n",
      "Real: positivo | Predicho: positivo\n"
     ]
    },
    {
     "name": "stderr",
     "output_type": "stream",
     "text": [
      "100%|██████████| 3/3 [00:04<00:00,  1.38s/it]\n"
     ]
    },
    {
     "name": "stdout",
     "output_type": "stream",
     "text": [
      "\n",
      "Texto: I hate how this ended.\n",
      "Real: negativo | Predicho: negativo\n",
      "\n",
      "Evaluando configuración: 5-shot\n",
      "\n"
     ]
    },
    {
     "name": "stderr",
     "output_type": "stream",
     "text": [
      " 33%|███▎      | 1/3 [00:00<00:01,  1.76it/s]"
     ]
    },
    {
     "name": "stdout",
     "output_type": "stream",
     "text": [
      "\n",
      "Texto: It's not good at all.\n",
      "Real: negativo | Predicho: negativo\n"
     ]
    },
    {
     "name": "stderr",
     "output_type": "stream",
     "text": [
      " 67%|██████▋   | 2/3 [00:01<00:00,  1.31it/s]"
     ]
    },
    {
     "name": "stdout",
     "output_type": "stream",
     "text": [
      "\n",
      "Texto: I enjoyed every minute of it.\n",
      "Real: positivo | Predicho: positivo\n"
     ]
    },
    {
     "name": "stderr",
     "output_type": "stream",
     "text": [
      "100%|██████████| 3/3 [00:02<00:00,  1.30it/s]"
     ]
    },
    {
     "name": "stdout",
     "output_type": "stream",
     "text": [
      "\n",
      "Texto: I hate how this ended.\n",
      "Real: negativo | Predicho: negativo\n"
     ]
    },
    {
     "name": "stderr",
     "output_type": "stream",
     "text": [
      "\n"
     ]
    }
   ],
   "source": [
    "shots_to_test = {\n",
    "    \"0-shot\": [],\n",
    "    \"1-shot\": few_shot_examples[:1],\n",
    "    \"5-shot\": few_shot_examples[:5],\n",
    "}\n",
    "\n",
    "results = []\n",
    "task_instruction = \"Clasifica el sentimiento de la siguiente oración como 'positivo' o 'negativo'.\"\n",
    "\n",
    "for shot_name, shots in shots_to_test.items():\n",
    "    print(f\"\\nEvaluando configuración: {shot_name}\\n\")\n",
    "    y_true = []\n",
    "    y_pred = []\n",
    "    for text, label in tqdm(test_data):\n",
    "        prompt = build_prompt(task_instruction, shots, text)\n",
    "        pred = classify_sentiment(prompt)\n",
    "        y_true.append(label)\n",
    "        y_pred.append(pred)\n",
    "        print(f\"\\nTexto: {text}\\nReal: {label} | Predicho: {pred}\")\n",
    "    acc = accuracy_score(y_true, y_pred)\n",
    "    f1 = f1_score(y_true, y_pred, pos_label=\"positivo\")\n",
    "    results.append({\"shots\": shot_name, \"accuracy\": acc, \"f1\": f1})\n"
   ]
  },
  {
   "cell_type": "code",
   "execution_count": 37,
   "id": "76f57610",
   "metadata": {},
   "outputs": [
    {
     "name": "stdout",
     "output_type": "stream",
     "text": [
      "\n",
      "Resumen de resultados:\n",
      "\n",
      "    shots  accuracy   f1\n",
      "0  0-shot       1.0  1.0\n",
      "1  1-shot       1.0  1.0\n",
      "2  5-shot       1.0  1.0\n"
     ]
    },
    {
     "data": {
      "image/png": "[encoded data removed]",
      "text/plain": [
       "<Figure size 640x480 with 1 Axes>"
      ]
     },
     "metadata": {},
     "output_type": "display_data"
    }
   ],
   "source": [
    "results_df = pd.DataFrame(results)\n",
    "print(\"\\nResumen de resultados:\\n\")\n",
    "print(results_df)\n",
    "\n",
    "sns.barplot(data=results_df.melt(id_vars=\"shots\"), x=\"shots\", y=\"value\", hue=\"variable\")\n",
    "plt.title(\"Desempeño por número de shots\")\n",
    "plt.ylabel(\"Score\")\n",
    "plt.xlabel(\"Número de shots\")\n",
    "plt.ylim(0, 1)\n",
    "plt.grid(True)\n",
    "plt.show()\n"
   ]
  }
 ],
 "metadata": {
  "kernelspec": {
   "display_name": "Python 3",
   "language": "python",
   "name": "python3"
  },
  "language_info": {
   "codemirror_mode": {
    "name": "ipython",
    "version": 3
   },
   "file_extension": ".py",
   "mimetype": "text/x-python",
   "name": "python",
   "nbconvert_exporter": "python",
   "pygments_lexer": "ipython3",
   "version": "3.11.4"
  }
 },
 "nbformat": 4,
 "nbformat_minor": 5
}
