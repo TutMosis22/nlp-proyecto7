{
 "cells": [
  {
   "cell_type": "code",
   "execution_count": 25,
   "id": "85553a05",
   "metadata": {},
   "outputs": [],
   "source": [
    "import os\n",
    "import openai\n",
    "import pandas as pd\n",
    "from dotenv import load_dotenv\n",
    "from tqdm import tqdm\n",
    "from openai import OpenAI\n",
    "import matplotlib.pyplot as plt\n",
    "import seaborn as sns\n",
    "import re"
   ]
  },
  {
   "cell_type": "code",
   "execution_count": null,
   "id": "e2fb3d30",
   "metadata": {},
   "outputs": [],
   "source": [
    "#VARGO LAS VARIABLES DEL ARCHIVO .env\n",
    "load_dotenv()\n",
    "\n",
    "#CONFIGURACIÓN DE MI CLAVE \n",
    "openai.api_key = os.getenv(\"OPENAI_API_KEY\")"
   ]
  },
  {
   "cell_type": "markdown",
   "id": "0db0c5b2",
   "metadata": {},
   "source": [
    "Usaré problemas simples de lógica. Por ejemplo:\n",
    "\n",
    "-> \"María es mayr que Juan. Juan es mayor que Pedro. ¿Quién es el menor?\"\n",
    "\n",
    "Para ello, creo un pequeño conjunto de datos para probar:"
   ]
  },
  {
   "cell_type": "code",
   "execution_count": 3,
   "id": "d9766f79",
   "metadata": {},
   "outputs": [],
   "source": [
    "data = [\n",
    "    {\n",
    "        \"input\": \"Lucía es más alta que Carla. Carla es más alta que Rosa. ¿Quién es la más baja?\",\n",
    "        \"direct_answer\": \"rosa\",\n",
    "        \"cot_answer\": \"Rosa es más baja que Carla, y Carla es más baja que Lucía. Por lo tanto, Rosa es la más baja.\"\n",
    "    },\n",
    "    {\n",
    "        \"input\": \"Carlos tiene más libros que Andrés. Andrés tiene más libros que Julio. ¿Quién tiene menos libros?\",\n",
    "        \"direct_answer\": \"julio\",\n",
    "        \"cot_answer\": \"Julio tiene menos libros que Andrés, y Andrés tiene menos que Carlos. Por lo tanto, Julio tiene menos libros.\"\n",
    "    },\n",
    "    {\n",
    "        \"input\": \"Ana es mayor que Luis. Luis es mayor que Jorge. ¿Quién es el menor?\",\n",
    "        \"direct_answer\": \"jorge\",\n",
    "        \"cot_answer\": \"Jorge es más joven que Luis, y Luis es más joven que Ana. Por lo tanto, Jorge es el menor.\"\n",
    "    }\n",
    "]\n",
    "\n",
    "df = pd.DataFrame(data)"
   ]
  },
  {
   "cell_type": "markdown",
   "id": "4cf9f856",
   "metadata": {},
   "source": [
    "# Construcción de prompts"
   ]
  },
  {
   "cell_type": "markdown",
   "id": "247e5c95",
   "metadata": {},
   "source": [
    "Primero: Prompt sin razonamiento (directo)"
   ]
  },
  {
   "cell_type": "code",
   "execution_count": 4,
   "id": "6f68ac8e",
   "metadata": {},
   "outputs": [],
   "source": [
    "def build_direct_prompt(question):\n",
    "    return f\"Responde la siguiente pregunta:\\n{question}\""
   ]
  },
  {
   "cell_type": "markdown",
   "id": "c14f05fc",
   "metadata": {},
   "source": [
    "Segundo: Prompt con razonamiento (Chain of Thought)"
   ]
  },
  {
   "cell_type": "code",
   "execution_count": 5,
   "id": "d51d7062",
   "metadata": {},
   "outputs": [],
   "source": [
    "def build_cot_prompt(question):\n",
    "    return f\"Responde razonando paso a paso:\\n{question}\""
   ]
  },
  {
   "cell_type": "markdown",
   "id": "fdd6926a",
   "metadata": {},
   "source": [
    "Se llama al modelo con la siguinte función:"
   ]
  },
  {
   "cell_type": "code",
   "execution_count": 11,
   "id": "4dfeb197",
   "metadata": {},
   "outputs": [],
   "source": [
    "client = OpenAI()\n",
    "\n",
    "def get_completion(prompt, model=\"gpt-3.5-turbo\", temperature=0):\n",
    "    response = client.chat.completions.create(\n",
    "        model=model,\n",
    "        messages=[{\"role\": \"user\", \"content\": prompt}],\n",
    "        temperature=temperature\n",
    "    )\n",
    "    return response.choices[0].message.content.strip().lower()"
   ]
  },
  {
   "cell_type": "markdown",
   "id": "1ee0e702",
   "metadata": {},
   "source": [
    "Y se realiza una evaluación de ambos enfoques"
   ]
  },
  {
   "cell_type": "code",
   "execution_count": null,
   "id": "76fa373e",
   "metadata": {},
   "outputs": [
    {
     "name": "stderr",
     "output_type": "stream",
     "text": [
      "100%|██████████| 3/3 [00:04<00:00,  1.62s/it]\n"
     ]
    },
    {
     "data": {
      "text/html": [
       "<div>\n",
       "<style scoped>\n",
       "    .dataframe tbody tr th:only-of-type {\n",
       "        vertical-align: middle;\n",
       "    }\n",
       "\n",
       "    .dataframe tbody tr th {\n",
       "        vertical-align: top;\n",
       "    }\n",
       "\n",
       "    .dataframe thead th {\n",
       "        text-align: right;\n",
       "    }\n",
       "</style>\n",
       "<table border=\"1\" class=\"dataframe\">\n",
       "  <thead>\n",
       "    <tr style=\"text-align: right;\">\n",
       "      <th></th>\n",
       "      <th>input</th>\n",
       "      <th>respuesta_directa_esperada</th>\n",
       "      <th>respuesta_directa_modelo</th>\n",
       "      <th>respuesta_CoT_esperada</th>\n",
       "      <th>respuesta_CoT_modelo</th>\n",
       "    </tr>\n",
       "  </thead>\n",
       "  <tbody>\n",
       "    <tr>\n",
       "      <th>0</th>\n",
       "      <td>Lucía es más alta que Carla. Carla es más alta...</td>\n",
       "      <td>rosa</td>\n",
       "      <td>la más baja es rosa.</td>\n",
       "      <td>Rosa es más baja que Carla, y Carla es más baj...</td>\n",
       "      <td>para determinar quién es la más baja, primero ...</td>\n",
       "    </tr>\n",
       "    <tr>\n",
       "      <th>1</th>\n",
       "      <td>Carlos tiene más libros que Andrés. Andrés tie...</td>\n",
       "      <td>julio</td>\n",
       "      <td>julio tiene menos libros.</td>\n",
       "      <td>Julio tiene menos libros que Andrés, y Andrés ...</td>\n",
       "      <td>para determinar quién tiene menos libros, prim...</td>\n",
       "    </tr>\n",
       "    <tr>\n",
       "      <th>2</th>\n",
       "      <td>Ana es mayor que Luis. Luis es mayor que Jorge...</td>\n",
       "      <td>jorge</td>\n",
       "      <td>jorge es el menor.</td>\n",
       "      <td>Jorge es más joven que Luis, y Luis es más jov...</td>\n",
       "      <td>para determinar quién es el menor, primero deb...</td>\n",
       "    </tr>\n",
       "  </tbody>\n",
       "</table>\n",
       "</div>"
      ],
      "text/plain": [
       "                                               input  \\\n",
       "0  Lucía es más alta que Carla. Carla es más alta...   \n",
       "1  Carlos tiene más libros que Andrés. Andrés tie...   \n",
       "2  Ana es mayor que Luis. Luis es mayor que Jorge...   \n",
       "\n",
       "  respuesta_directa_esperada   respuesta_directa_modelo  \\\n",
       "0                       rosa       la más baja es rosa.   \n",
       "1                      julio  julio tiene menos libros.   \n",
       "2                      jorge         jorge es el menor.   \n",
       "\n",
       "                              respuesta_CoT_esperada  \\\n",
       "0  Rosa es más baja que Carla, y Carla es más baj...   \n",
       "1  Julio tiene menos libros que Andrés, y Andrés ...   \n",
       "2  Jorge es más joven que Luis, y Luis es más jov...   \n",
       "\n",
       "                                respuesta_CoT_modelo  \n",
       "0  para determinar quién es la más baja, primero ...  \n",
       "1  para determinar quién tiene menos libros, prim...  \n",
       "2  para determinar quién es el menor, primero deb...  "
      ]
     },
     "execution_count": 12,
     "metadata": {},
     "output_type": "execute_result"
    }
   ],
   "source": [
    "results = []\n",
    "\n",
    "for i, row in tqdm(df.iterrows(), total=len(df)):\n",
    "    # PROMPTS\n",
    "    direct_prompt = build_direct_prompt(row[\"input\"])\n",
    "    cot_prompt = build_cot_prompt(row[\"input\"])\n",
    "    \n",
    "    #RESPUESTAS DEL MODELO\n",
    "    direct_output = get_completion(direct_prompt)\n",
    "    cot_output = get_completion(cot_prompt)\n",
    "\n",
    "    results.append({\n",
    "        \"input\": row[\"input\"],\n",
    "        \"respuesta_directa_esperada\": row[\"direct_answer\"],\n",
    "        \"respuesta_directa_modelo\": direct_output,\n",
    "        \"respuesta_CoT_esperada\": row[\"cot_answer\"],\n",
    "        \"respuesta_CoT_modelo\": cot_output\n",
    "    })\n",
    "\n",
    "df_results = pd.DataFrame(results)\n",
    "df_results"
   ]
  },
  {
   "cell_type": "markdown",
   "id": "b1157888",
   "metadata": {},
   "source": [
    "En esta parte, debemos observar de forma \"manual\" si la respuesta directa fue correcta y si la respuesta con CoT mejoró la claridad o exactitud.\n",
    "\n",
    "Agrego lo siguiente para realizar una comparación y luego calcular las métricas:"
   ]
  },
  {
   "cell_type": "code",
   "execution_count": 29,
   "id": "e1dfa2f8",
   "metadata": {},
   "outputs": [
    {
     "name": "stdout",
     "output_type": "stream",
     "text": [
      "Accuracy Directo: 0.33\n",
      "Accuracy CoT: 1.00\n"
     ]
    }
   ],
   "source": [
    "#def clean_answer(output):\n",
    "#    return output.split()[-1].strip(\"?.\").lower()\n",
    "\n",
    "def extract_name_answer(output, posibles=[\"rosa\", \"jorge\", \"julio\"]):\n",
    "    output = output.lower()\n",
    "    for nombre in posibles:\n",
    "        if nombre in output:\n",
    "            return nombre\n",
    "    return \"desconocido\"\n",
    "\n",
    "df_results[\"direct_clean\"] = df_results[\"respuesta_directa_modelo\"].apply(clean_answer)\n",
    "#df_results[\"cot_clean\"] = df_results[\"respuesta_CoT_modelo\"].apply(clean_answer)\n",
    "df_results[\"cot_clean\"] = df_results[\"respuesta_CoT_modelo\"].apply(lambda x: extract_name_answer(x, posibles=[\"rosa\", \"jorge\", \"julio\"]))\n",
    "\n",
    "df_results[\"direct_correct\"] = df_results[\"direct_clean\"] == df_results[\"respuesta_directa_esperada\"]\n",
    "df_results[\"cot_correct\"] = df_results[\"cot_clean\"] == df_results[\"respuesta_directa_esperada\"]\n",
    "\n",
    "accuracy_direct = df_results[\"direct_correct\"].mean()\n",
    "accuracy_cot = df_results[\"cot_correct\"].mean()\n",
    "\n",
    "print(f\"Accuracy Directo: {accuracy_direct:.2f}\")\n",
    "print(f\"Accuracy CoT: {accuracy_cot:.2f}\")"
   ]
  },
  {
   "cell_type": "markdown",
   "id": "cf82dd35",
   "metadata": {},
   "source": [
    "Una visualización gráfica de lo obtenido"
   ]
  },
  {
   "cell_type": "code",
   "execution_count": 30,
   "id": "d4b01994",
   "metadata": {},
   "outputs": [
    {
     "data": {
      "image/png": "[encoded data removed]",
      "text/plain": [
       "<Figure size 640x480 with 1 Axes>"
      ]
     },
     "metadata": {},
     "output_type": "display_data"
    }
   ],
   "source": [
    "sns.barplot(data=pd.DataFrame({\n",
    "    \"Método\": [\"Directo\", \"Chain-of-Thought\"],\n",
    "    \"Exactitud\": [accuracy_direct, accuracy_cot]\n",
    "}), x=\"Método\", y=\"Exactitud\")\n",
    "plt.title(\"Comparación de desempeño\")\n",
    "plt.ylim(0, 1)\n",
    "plt.show()"
   ]
  },
  {
   "cell_type": "code",
   "execution_count": 31,
   "id": "37be7c5f",
   "metadata": {},
   "outputs": [
    {
     "name": "stdout",
     "output_type": "stream",
     "text": [
      "Resultados guardados en 'resultados_chain_of_thought.txt'\n"
     ]
    }
   ],
   "source": [
    "output_path = \"resultados_chain_of_thought.txt\"\n",
    "\n",
    "with open(output_path, \"w\", encoding=\"utf-8\") as f:\n",
    "    for i, row in df_results.iterrows():\n",
    "        f.write(f\" Ejemplo {i+1}\\n\")\n",
    "        f.write(f\"Pregunta: {row['input']}\\n\\n\")\n",
    "        \n",
    "        f.write(\"Enfoque Directo:\\n\")\n",
    "        f.write(f\"Esperado: {row['respuesta_directa_esperada']}\\n\")\n",
    "        f.write(f\"Modelo  : {row['respuesta_directa_modelo']}\\n\\n\")\n",
    "        \n",
    "        f.write(\"Chain-of-Thought:\\n\")\n",
    "        f.write(f\"Esperado: {row['respuesta_CoT_esperada']}\\n\")\n",
    "        f.write(f\"Modelo  : {row['respuesta_CoT_modelo']}\\n\")\n",
    "        \n",
    "        f.write(\"\\n\" + \"-\"*60 + \"\\n\\n\")\n",
    "\n",
    "print(f\"Resultados guardados en '{output_path}'\")\n"
   ]
  }
 ],
 "metadata": {
  "kernelspec": {
   "display_name": "Python 3",
   "language": "python",
   "name": "python3"
  },
  "language_info": {
   "codemirror_mode": {
    "name": "ipython",
    "version": 3
   },
   "file_extension": ".py",
   "mimetype": "text/x-python",
   "name": "python",
   "nbconvert_exporter": "python",
   "pygments_lexer": "ipython3",
   "version": "3.11.4"
  }
 },
 "nbformat": 4,
 "nbformat_minor": 5
}
